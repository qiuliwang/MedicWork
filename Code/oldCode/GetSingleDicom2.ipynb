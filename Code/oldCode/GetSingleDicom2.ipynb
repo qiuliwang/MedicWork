{
 "cells": [
  {
   "cell_type": "code",
   "execution_count": 2,
   "metadata": {},
   "outputs": [
    {
     "name": "stdout",
     "output_type": "stream",
     "text": [
      "1010\n",
      "['LIDC-IDRI-0779,1.3.6.1.4.1.14519.5.2.1.6279.6001.771741891125176943862272696845\\n', 'LIDC-IDRI-0466,1.3.6.1.4.1.14519.5.2.1.6279.6001.275007193025729362844652516689\\n', 'LIDC-IDRI-0501,1.3.6.1.4.1.14519.5.2.1.6279.6001.900182736599353600185270496549\\n', 'LIDC-IDRI-0144,1.3.6.1.4.1.14519.5.2.1.6279.6001.249404938669582150398726875826\\n', 'LIDC-IDRI-0846,1.3.6.1.4.1.14519.5.2.1.6279.6001.674809958213117379592437424616\\n', 'LIDC-IDRI-0461,1.3.6.1.4.1.14519.5.2.1.6279.6001.183184435049555024219115904825\\n', 'LIDC-IDRI-0231,1.3.6.1.4.1.14519.5.2.1.6279.6001.246589849815292078281051154201\\n', 'LIDC-IDRI-0267,1.3.6.1.4.1.14519.5.2.1.6279.6001.245181799370098278918756923992\\n', 'LIDC-IDRI-1003,1.3.6.1.4.1.14519.5.2.1.6279.6001.229096941293122177107846044795\\n', 'LIDC-IDRI-0679,1.3.6.1.4.1.14519.5.2.1.6279.6001.910757789941076242457816491305\\n']\n"
     ]
    }
   ],
   "source": [
    "'''\n",
    "Created by WangQL\n",
    "\n",
    "1/23/2018\n",
    "'''\n",
    "import os\n",
    "\n",
    "# read\n",
    "f = open('id_series.txt', 'r')\n",
    "list1 = f.readlines()\n",
    "print(len(list1))\n",
    "print(list1[:10])\n",
    "f.close()\n"
   ]
  },
  {
   "cell_type": "code",
   "execution_count": null,
   "metadata": {},
   "outputs": [],
   "source": []
  }
 ],
 "metadata": {
  "kernelspec": {
   "display_name": "Python 3",
   "language": "python",
   "name": "python3"
  },
  "language_info": {
   "codemirror_mode": {
    "name": "ipython",
    "version": 3
   },
   "file_extension": ".py",
   "mimetype": "text/x-python",
   "name": "python",
   "nbconvert_exporter": "python",
   "pygments_lexer": "ipython3",
   "version": "3.6.4"
  }
 },
 "nbformat": 4,
 "nbformat_minor": 2
}
