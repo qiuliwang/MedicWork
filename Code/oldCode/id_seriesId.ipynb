{
 "cells": [
  {
   "cell_type": "code",
   "execution_count": 1,
   "metadata": {},
   "outputs": [
    {
     "name": "stdout",
     "output_type": "stream",
     "text": [
      "Index(['Patient Id', 'Study Date', 'Study Description', 'Modality',\n",
      "       'Series Description', 'Manufacturer', 'Manufacturer Model',\n",
      "       'Software Version', 'Series UID'],\n",
      "      dtype='object')\n",
      "Index(['Collection', 'Patient Id', 'Study Date', 'Study Description',\n",
      "       'Modality', 'Series Description', 'Manufacturer', 'Manufacturer Model',\n",
      "       'Software Version'],\n",
      "      dtype='object')\n"
     ]
    }
   ],
   "source": [
    "'''\n",
    "Created by WangQL\n",
    "4.9.2018\n",
    "\n",
    "获取结节图像\n",
    "'''\n",
    "\n",
    "import os\n",
    "import pandas as pd\n",
    "\n",
    "\n",
    "# # data_dir = 'stage1'\n",
    "# # patients = os.listdir(data_dir)\n",
    "labels_data1 = pd.read_csv('D:\\Data\\LIDC-IDRI\\LIDC-IDRI_MetaData.csv',index_col = 0)\n",
    "labels_data2 = pd.read_csv('D:\\Data\\LIDC-IDRI\\LIDC-IDRI_MetaData.csv',index_col = 'Series UID')\n",
    "\n",
    "print(labels_data1.columns)\n",
    "print(labels_data2.columns)"
   ]
  },
  {
   "cell_type": "code",
   "execution_count": 2,
   "metadata": {},
   "outputs": [
    {
     "name": "stdout",
     "output_type": "stream",
     "text": [
      "<class 'str'>\n",
      "['1.3.6.1.4.1.14519.5.2.1.6279.6001.179049373636438705059720603192'\n",
      " '1.3.6.1.4.1.14519.5.2.1.6279.6001.141365756818074696859567662357'\n",
      " '1.3.6.1.4.1.14519.5.2.1.6279.6001.619372068417051974713149104919'\n",
      " '1.3.6.1.4.1.14519.5.2.1.6279.6001.493562949900213760403901722902'\n",
      " '1.3.6.1.4.1.14519.5.2.1.6279.6001.170706757615202213033480003264'\n",
      " '1.3.6.1.4.1.14519.5.2.1.6279.6001.142026812390984321013050559882'\n",
      " '1.3.6.1.4.1.14519.5.2.1.6279.6001.210102868760281756294235082201'\n",
      " '1.3.6.1.4.1.14519.5.2.1.6279.6001.323541312620128092852212458228'\n",
      " '1.3.6.1.4.1.14519.5.2.1.6279.6001.129007566048223160327836686225'\n",
      " '1.3.6.1.4.1.14519.5.2.1.6279.6001.126797645619189548095014105796']\n",
      "1398\n"
     ]
    }
   ],
   "source": [
    "# get UID\n",
    "patients_id = labels_data1.iloc[:,8]\n",
    "arrs=patients_id.values  \n",
    "print(type(arrs[0]))\n",
    "print(arrs[:10])\n",
    "print(len(arrs))"
   ]
  },
  {
   "cell_type": "code",
   "execution_count": 3,
   "metadata": {},
   "outputs": [
    {
     "name": "stdout",
     "output_type": "stream",
     "text": [
      "['1.3.6.1.4.1.14519.5.2.1.6279.6001.179049373636438705059720603192', '1.3.6.1.4.1.14519.5.2.1.6279.6001.619372068417051974713149104919', '1.3.6.1.4.1.14519.5.2.1.6279.6001.170706757615202213033480003264', '1.3.6.1.4.1.14519.5.2.1.6279.6001.323541312620128092852212458228', '1.3.6.1.4.1.14519.5.2.1.6279.6001.129007566048223160327836686225', '1.3.6.1.4.1.14519.5.2.1.6279.6001.132817748896065918417924920957', '1.3.6.1.4.1.14519.5.2.1.6279.6001.272348349298439120568330857680', '1.3.6.1.4.1.14519.5.2.1.6279.6001.774060103415303828812229821954', '1.3.6.1.4.1.14519.5.2.1.6279.6001.286061375572911414226912429210', '1.3.6.1.4.1.14519.5.2.1.6279.6001.416701701108520592702405866796']\n",
      "1018\n",
      "1018\n"
     ]
    }
   ],
   "source": [
    "# get CT UID\n",
    "new_patients = []\n",
    "new_patients_id = []\n",
    "\n",
    "# get id which has CT info\n",
    "for patient in arrs:\n",
    "    #  label = labels_df.at[patient, 'cancer']\n",
    "    temp_type = labels_data2.at[patient, 'Modality']\n",
    "    if temp_type == 'CT':\n",
    "        new_patients.append(patient)\n",
    "        temp_id = labels_data2.at[patient, 'Patient Id']\n",
    "        new_patients_id.append(temp_id)\n",
    "        \n",
    "print(new_patients[:10])\n",
    "print(len(new_patients))\n",
    "print(len(new_patients_id))"
   ]
  },
  {
   "cell_type": "code",
   "execution_count": 4,
   "metadata": {},
   "outputs": [
    {
     "name": "stdout",
     "output_type": "stream",
     "text": [
      "LIDC-IDRI-0001 1.3.6.1.4.1.14519.5.2.1.6279.6001.179049373636438705059720603192\n",
      "LIDC-IDRI-0002 1.3.6.1.4.1.14519.5.2.1.6279.6001.619372068417051974713149104919\n",
      "LIDC-IDRI-0003 1.3.6.1.4.1.14519.5.2.1.6279.6001.170706757615202213033480003264\n",
      "LIDC-IDRI-0004 1.3.6.1.4.1.14519.5.2.1.6279.6001.323541312620128092852212458228\n",
      "LIDC-IDRI-0005 1.3.6.1.4.1.14519.5.2.1.6279.6001.129007566048223160327836686225\n",
      "LIDC-IDRI-0006 1.3.6.1.4.1.14519.5.2.1.6279.6001.132817748896065918417924920957\n",
      "LIDC-IDRI-0007 1.3.6.1.4.1.14519.5.2.1.6279.6001.272348349298439120568330857680\n",
      "LIDC-IDRI-0008 1.3.6.1.4.1.14519.5.2.1.6279.6001.774060103415303828812229821954\n",
      "LIDC-IDRI-0009 1.3.6.1.4.1.14519.5.2.1.6279.6001.286061375572911414226912429210\n",
      "LIDC-IDRI-0010 1.3.6.1.4.1.14519.5.2.1.6279.6001.416701701108520592702405866796\n"
     ]
    }
   ],
   "source": [
    "# combine id with series\n",
    "dictionary = {}\n",
    "i = 0\n",
    "\n",
    "while i < len(new_patients_id):\n",
    "    id = new_patients_id[i]\n",
    "    series = new_patients[i]\n",
    "    if i < 10:\n",
    "        print(id, series)\n",
    "    dictionary[id] = series\n",
    "    i += 1"
   ]
  },
  {
   "cell_type": "code",
   "execution_count": 5,
   "metadata": {},
   "outputs": [
    {
     "name": "stdout",
     "output_type": "stream",
     "text": [
      "Index(['case', 'scan', 'roi', 'volume', 'eq. diam.', 'x loc.', 'y loc.',\n",
      "       'slice no.', 'Unnamed: 9', 'nodIDs', 'Unnamed: 11', 'Unnamed: 12',\n",
      "       'Unnamed: 13', 'Unnamed: 14', 'Unnamed: 15', 'Unnamed: 16'],\n",
      "      dtype='object')\n",
      "2635\n",
      "2635\n",
      "id\n",
      "1    43\n",
      "2    77\n",
      "3    57\n",
      "4    56\n",
      "5    65\n",
      "Name: slice no., dtype: int64\n",
      "id\n",
      "1    317\n",
      "2    345\n",
      "3    308\n",
      "4    221\n",
      "5    367\n",
      "Name: x loc., dtype: int64\n",
      "id\n",
      "1    367\n",
      "2    361\n",
      "3    198\n",
      "4    219\n",
      "5    350\n",
      "Name: y loc., dtype: int64\n"
     ]
    }
   ],
   "source": [
    "tumer_id = pd.read_csv('D:\\Data\\LIDC-IDRI\\list3.2.csv',index_col = 0)\n",
    "print(tumer_id.columns)\n",
    "\n",
    "\n",
    "def NumToStr(num):\n",
    "    strnum = str(num)\n",
    "    if num < 10:\n",
    "        strnum = \"000\" + strnum\n",
    "    elif num < 100:\n",
    "        strnum = \"00\" + strnum\n",
    "    elif num < 1000:\n",
    "        strnum = \"0\" + strnum\n",
    "    return strnum\n",
    "\n",
    "def NumToStr2(num):\n",
    "    strnum = str(num)\n",
    "    if num < 10:\n",
    "        strnum = \"00000\" + strnum\n",
    "    elif num < 100:\n",
    "        strnum = \"0000\" + strnum\n",
    "    elif num < 1000:\n",
    "        strnum = \"000\" + strnum\n",
    "    return strnum\n",
    "\n",
    "import shutil\n",
    "\n",
    "\n",
    "cases = tumer_id.iloc[:,0]\n",
    "cases_x_loc = tumer_id.iloc[:,5]\n",
    "cases_y_loc = tumer_id.iloc[:,6]\n",
    "cases_slice_no = tumer_id.iloc[:,7]\n",
    "print(len(cases))\n",
    "print(len(cases_slice_no))\n",
    "print(cases_slice_no[:5])\n",
    "print(cases_x_loc[:5])\n",
    "print(cases_y_loc[:5])"
   ]
  },
  {
   "cell_type": "code",
   "execution_count": 12,
   "metadata": {
    "scrolled": true
   },
   "outputs": [
    {
     "name": "stderr",
     "output_type": "stream",
     "text": [
      "c:\\users\\wangql\\appdata\\local\\programs\\python\\python36\\lib\\site-packages\\ipykernel_launcher.py:37: DeprecationWarning: `imsave` is deprecated!\n",
      "`imsave` is deprecated in SciPy 1.0.0, and will be removed in 1.2.0.\n",
      "Use ``imageio.imwrite`` instead.\n"
     ]
    },
    {
     "name": "stdout",
     "output_type": "stream",
     "text": [
      "0.0\n",
      "0.0003795066413662239\n",
      "0.0007590132827324478\n",
      "0.0011385199240986717\n",
      "0.0015180265654648956\n",
      "0.0018975332068311196\n",
      "0.0022770398481973433\n",
      "0.0026565464895635673\n",
      "0.0030360531309297912\n",
      "0.003415559772296015\n",
      "break\n"
     ]
    }
   ],
   "source": [
    "import pydicom\n",
    "import scipy.misc\n",
    "import cv2\n",
    "sign = 0\n",
    "\n",
    "def cutTheImage(x, y, pix):\n",
    "    temp = 50\n",
    "    x1 = x - temp\n",
    "    x2 = x + temp\n",
    "    y1 = y - temp\n",
    "    y2 = y + temp\n",
    "    img_cut = pix[x1:x2, y1:y2]\n",
    "    return img_cut\n",
    "\n",
    "t = len(cases)\n",
    "for (case, slice, x, y) in zip(cases, cases_slice_no,cases_x_loc,cases_y_loc):\n",
    "    caseid = 'LIDC-IDRI-' + NumToStr(case)\n",
    "    caseseries = dictionary[caseid]\n",
    "    old_dir = 'D:\\\\Data\\\\LIDC-IDRI\\\\CT_DATA\\\\' + caseseries\n",
    "    dicomlist = os.listdir(old_dir)\n",
    "    # remove xml file\n",
    "    for dic in dicomlist:\n",
    "        typeoffile = dic[len(dic)-3:len(dic)]\n",
    "        if typeoffile == 'xml':\n",
    "            dicomlist.remove(dic)\n",
    "    \n",
    "    slices = [pydicom.dcmread(old_dir + '\\\\' + s) for s in dicomlist]\n",
    "\n",
    "    slices.sort(key = lambda x : float(x.ImagePositionPatient[2]),reverse=True)\n",
    "\n",
    "    slice_x = slices[slice - 1]\n",
    "    pix = slice_x.pixel_array  # numpy.ndarray\n",
    "    image_name = old_dir[0:18] + 'CT_IMAGE\\\\' + str(caseid) + '_' + str(slice)+'.jpeg'\n",
    "\n",
    "    # cut out the nodule\n",
    "    cut_img = cutTheImage(y, x, pix)\n",
    "    scipy.misc.imsave(image_name, cut_img)\n",
    "    print(sign / t)\n",
    "    sign = sign + 1\n",
    "    if sign == 10:\n",
    "        print('break')\n",
    "        break"
   ]
  },
  {
   "cell_type": "code",
   "execution_count": null,
   "metadata": {},
   "outputs": [],
   "source": []
  },
  {
   "cell_type": "code",
   "execution_count": null,
   "metadata": {},
   "outputs": [],
   "source": []
  },
  {
   "cell_type": "code",
   "execution_count": null,
   "metadata": {},
   "outputs": [],
   "source": []
  }
 ],
 "metadata": {
  "kernelspec": {
   "display_name": "Python 3",
   "language": "python",
   "name": "python3"
  },
  "language_info": {
   "codemirror_mode": {
    "name": "ipython",
    "version": 3
   },
   "file_extension": ".py",
   "mimetype": "text/x-python",
   "name": "python",
   "nbconvert_exporter": "python",
   "pygments_lexer": "ipython3",
   "version": "3.6.4"
  }
 },
 "nbformat": 4,
 "nbformat_minor": 2
}
