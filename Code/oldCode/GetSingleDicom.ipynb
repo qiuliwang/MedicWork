{
 "cells": [
  {
   "cell_type": "code",
   "execution_count": 1,
   "metadata": {},
   "outputs": [
    {
     "name": "stdout",
     "output_type": "stream",
     "text": [
      "(0008, 0005) Specific Character Set              CS: 'ISO_IR 100'\n",
      "(0008, 0008) Image Type                          CS: ['ORIGINAL', 'PRIMARY', 'AXIAL']\n",
      "(0008, 0016) SOP Class UID                       UI: CT Image Storage\n",
      "(0008, 0018) SOP Instance UID                    UI: 1.3.6.1.4.1.14519.5.2.1.6279.6001.143451261327128179989900675595\n",
      "(0008, 0020) Study Date                          DA: '20000101'\n",
      "(0008, 0021) Series Date                         DA: '20000101'\n",
      "(0008, 0022) Acquisition Date                    DA: '20000101'\n",
      "(0008, 0023) Content Date                        DA: '20000101'\n",
      "(0008, 0024) Overlay Date                        DA: '20000101'\n",
      "(0008, 0025) Curve Date                          DA: '20000101'\n",
      "(0008, 002a) Acquisition DateTime                DT: '20000101'\n",
      "(0008, 0030) Study Time                          TM: ''\n",
      "(0008, 0032) Acquisition Time                    TM: ''\n",
      "(0008, 0033) Content Time                        TM: ''\n",
      "(0008, 0050) Accession Number                    SH: '2819497684894126'\n",
      "(0008, 0060) Modality                            CS: 'CT'\n",
      "(0008, 0070) Manufacturer                        LO: 'GE MEDICAL SYSTEMS'\n",
      "(0008, 0090) Referring Physician's Name          PN: ''\n",
      "(0008, 1090) Manufacturer's Model Name           LO: 'LightSpeed Plus'\n",
      "(0008, 1155) Referenced SOP Instance UID         UI: 1.3.6.1.4.1.14519.5.2.1.6279.6001.675906998158803995297223798692\n",
      "(0010, 0010) Patient's Name                      PN: ''\n",
      "(0010, 0020) Patient ID                          LO: 'LIDC-IDRI-0001'\n",
      "(0010, 0030) Patient's Birth Date                DA: ''\n",
      "(0010, 0040) Patient's Sex                       CS: ''\n",
      "(0010, 1010) Patient's Age                       AS: ''\n",
      "(0010, 21d0) Last Menstrual Date                 DA: '20000101'\n",
      "(0012, 0062) Patient Identity Removed            CS: 'YES'\n",
      "(0012, 0063) De-identification Method            LO: 'DCM:113100/113105/113107/113108/113109/113111'\n",
      "(0013, 0010) Private Creator                     LO: 'CTP'\n",
      "(0013, 1010) Private tag data                    LO: 'LIDC-IDRI'\n",
      "(0013, 1013) Private tag data                    LO: '62796001'\n",
      "(0018, 0010) Contrast/Bolus Agent                LO: 'IV'\n",
      "(0018, 0015) Body Part Examined                  CS: 'CHEST'\n",
      "(0018, 0022) Scan Options                        CS: 'HELICAL MODE'\n",
      "(0018, 0050) Slice Thickness                     DS: \"2.500000\"\n",
      "(0018, 0060) KVP                                 DS: \"120\"\n",
      "(0018, 0090) Data Collection Diameter            DS: \"500.000000\"\n",
      "(0018, 1020) Software Version(s)                 LO: 'LightSpeedApps2.4.2_H2.4M5'\n",
      "(0018, 1100) Reconstruction Diameter             DS: \"360.000000\"\n",
      "(0018, 1110) Distance Source to Detector         DS: \"949.075012\"\n",
      "(0018, 1111) Distance Source to Patient          DS: \"541.000000\"\n",
      "(0018, 1120) Gantry/Detector Tilt                DS: \"0.000000\"\n",
      "(0018, 1130) Table Height                        DS: \"144.399994\"\n",
      "(0018, 1140) Rotation Direction                  CS: 'CW'\n",
      "(0018, 1150) Exposure Time                       IS: '570'\n",
      "(0018, 1151) X-Ray Tube Current                  IS: '400'\n",
      "(0018, 1152) Exposure                            IS: '4684'\n",
      "(0018, 1160) Filter Type                         SH: 'BODY FILTER'\n",
      "(0018, 1170) Generator Power                     IS: '48000'\n",
      "(0018, 1190) Focal Spot(s)                       DS: \"1.200000\"\n",
      "(0018, 1210) Convolution Kernel                  SH: 'STANDARD'\n",
      "(0018, 5100) Patient Position                    CS: 'FFS'\n",
      "(0020, 000d) Study Instance UID                  UI: 1.3.6.1.4.1.14519.5.2.1.6279.6001.298806137288633453246975630178\n",
      "(0020, 000e) Series Instance UID                 UI: 1.3.6.1.4.1.14519.5.2.1.6279.6001.179049373636438705059720603192\n",
      "(0020, 0010) Study ID                            SH: ''\n",
      "(0020, 0011) Series Number                       IS: '3000566'\n",
      "(0020, 0013) Instance Number                     IS: '80'\n",
      "(0020, 0032) Image Position (Patient)            DS: ['-166.000000', '-171.699997', '-207.500000']\n",
      "(0020, 0037) Image Orientation (Patient)         DS: ['1.000000', '0.000000', '0.000000', '0.000000', '1.000000', '0.000000']\n",
      "(0020, 0052) Frame of Reference UID              UI: 1.3.6.1.4.1.14519.5.2.1.6279.6001.229925374658226729607867499499\n",
      "(0020, 1040) Position Reference Indicator        LO: 'SN'\n",
      "(0020, 1041) Slice Location                      DS: \"-207.500000\"\n",
      "(0028, 0002) Samples per Pixel                   US: 1\n",
      "(0028, 0004) Photometric Interpretation          CS: 'MONOCHROME2'\n",
      "(0028, 0010) Rows                                US: 512\n",
      "(0028, 0011) Columns                             US: 512\n",
      "(0028, 0030) Pixel Spacing                       DS: ['0.703125', '0.703125']\n",
      "(0028, 0100) Bits Allocated                      US: 16\n",
      "(0028, 0101) Bits Stored                         US: 16\n",
      "(0028, 0102) High Bit                            US: 15\n",
      "(0028, 0103) Pixel Representation                US: 1\n",
      "(0028, 0120) Pixel Padding Value                 US: 63536\n",
      "(0028, 0303) Longitudinal Temporal Information M CS: 'MODIFIED'\n",
      "(0028, 1050) Window Center                       DS: \"-600\"\n",
      "(0028, 1051) Window Width                        DS: \"1600\"\n",
      "(0028, 1052) Rescale Intercept                   DS: \"-1024\"\n",
      "(0028, 1053) Rescale Slope                       DS: \"1\"\n",
      "(0038, 0020) Admitting Date                      DA: '20000101'\n",
      "(0040, 0002) Scheduled Procedure Step Start Date DA: '20000101'\n",
      "(0040, 0004) Scheduled Procedure Step End Date   DA: '20000101'\n",
      "(0040, 0244) Performed Procedure Step Start Date DA: '20000101'\n",
      "(0040, 2016) Placer Order Number / Imaging Servi LO: ''\n",
      "(0040, 2017) Filler Order Number / Imaging Servi LO: ''\n",
      "(0040, a075) Verifying Observer Name             PN: 'Removed by CTP'\n",
      "(0040, a123) Person Name                         PN: 'Removed by CTP'\n",
      "(0040, a124) UID                                 UI: 1.3.6.1.4.1.14519.5.2.1.6279.6001.335419887712224178340067932923\n",
      "(0070, 0084) Content Creator's Name              PN: ''\n",
      "(0088, 0140) Storage Media File-set UID          UI: 1.3.6.1.4.1.14519.5.2.1.6279.6001.211790042620307056609660772296\n",
      "(7fe0, 0010) Pixel Data                          OW: Array of 524288 bytes\n",
      "['AccessionNumber', 'AcquisitionDate', 'AcquisitionDateTime', 'AcquisitionTime', 'AdmittingDate', 'BitsAllocated', 'BitsStored', 'BodyPartExamined', 'Columns', 'ContentCreatorName', 'ContentDate', 'ContentTime', 'ContrastBolusAgent', 'ConvolutionKernel', 'CurveDate', 'DataCollectionDiameter', 'DeidentificationMethod', 'DistanceSourceToDetector', 'DistanceSourceToPatient', 'Exposure', 'ExposureTime', 'FillerOrderNumberImagingServiceRequest', 'FilterType', 'FocalSpots', 'FrameOfReferenceUID', 'GantryDetectorTilt', 'GeneratorPower', 'HighBit', 'ImageOrientationPatient', 'ImagePositionPatient', 'ImageType', 'InstanceNumber', 'KVP', 'LastMenstrualDate', 'LongitudinalTemporalInformationModified', 'Manufacturer', 'ManufacturerModelName', 'Modality', 'OverlayDate', 'PatientAge', 'PatientBirthDate', 'PatientID', 'PatientIdentityRemoved', 'PatientName', 'PatientPosition', 'PatientSex', 'PerformedProcedureStepStartDate', 'PersonName', 'PhotometricInterpretation', 'PixelData', 'PixelPaddingValue', 'PixelRepresentation', 'PixelSpacing', 'PlacerOrderNumberImagingServiceRequest', 'PositionReferenceIndicator', 'ReconstructionDiameter', 'ReferencedSOPInstanceUID', 'ReferringPhysicianName', 'RescaleIntercept', 'RescaleSlope', 'RotationDirection', 'Rows', 'SOPClassUID', 'SOPInstanceUID', 'SamplesPerPixel', 'ScanOptions', 'ScheduledProcedureStepEndDate', 'ScheduledProcedureStepStartDate', 'SeriesDate', 'SeriesInstanceUID', 'SeriesNumber', 'SliceLocation', 'SliceThickness', 'SoftwareVersions', 'SpecificCharacterSet', 'StorageMediaFileSetUID', 'StudyDate', 'StudyID', 'StudyInstanceUID', 'StudyTime', 'TableHeight', 'UID', 'VerifyingObserverName', 'WindowCenter', 'WindowWidth', 'XRayTubeCurrent']\n"
     ]
    }
   ],
   "source": [
    "'''\n",
    "Created by WangQL\n",
    "\n",
    "4/11/2018\n",
    "'''\n",
    "import os\n",
    "import pydicom\n",
    "\n",
    "ds = pydicom.dcmread('000001.dcm', force=True)\n",
    "print(ds)\n",
    "print(ds.dir())"
   ]
  },
  {
   "cell_type": "code",
   "execution_count": 2,
   "metadata": {},
   "outputs": [
    {
     "name": "stdout",
     "output_type": "stream",
     "text": [
      "<class 'pydicom.dataset.FileDataset'>\n",
      "-207.500000\n"
     ]
    }
   ],
   "source": [
    "print(type(ds))\n",
    "print(ds.SliceLocation)"
   ]
  },
  {
   "cell_type": "code",
   "execution_count": 3,
   "metadata": {},
   "outputs": [
    {
     "name": "stdout",
     "output_type": "stream",
     "text": [
      "(512, 512)\n",
      "183\n"
     ]
    },
    {
     "name": "stderr",
     "output_type": "stream",
     "text": [
      "c:\\users\\wangql\\appdata\\local\\programs\\python\\python36\\lib\\site-packages\\ipykernel_launcher.py:6: DeprecationWarning: `imsave` is deprecated!\n",
      "`imsave` is deprecated in SciPy 1.0.0, and will be removed in 1.2.0.\n",
      "Use ``imageio.imwrite`` instead.\n",
      "  \n"
     ]
    }
   ],
   "source": [
    "import scipy.misc\n",
    "pix = ds.pixel_array  # numpy.ndarray\n",
    "print(pix.shape)  \n",
    "# cut out the nodule\n",
    "print(pix[317][367])\n",
    "scipy.misc.imsave('test2.jpeg', pix)"
   ]
  },
  {
   "cell_type": "code",
   "execution_count": 23,
   "metadata": {},
   "outputs": [
    {
     "name": "stdout",
     "output_type": "stream",
     "text": [
      "(30, 30)\n"
     ]
    },
    {
     "name": "stderr",
     "output_type": "stream",
     "text": [
      "c:\\users\\wangql\\appdata\\local\\programs\\python\\python36\\lib\\site-packages\\ipykernel_launcher.py:12: DeprecationWarning: `imsave` is deprecated!\n",
      "`imsave` is deprecated in SciPy 1.0.0, and will be removed in 1.2.0.\n",
      "Use ``imageio.imwrite`` instead.\n",
      "  if sys.path[0] == '':\n"
     ]
    }
   ],
   "source": [
    "# 270 300\n",
    "def cutTheImage(x, y, pix):\n",
    "    # print(type(pix))\n",
    "    x1 = x - 15\n",
    "    x2 = x + 15\n",
    "    y1 = y - 15\n",
    "    y2 = y + 15\n",
    "    img_cut = pix[x1:x2, y1:y2]\n",
    "    return img_cut\n",
    "img = cutTheImage(270, 300, pix)\n",
    "print(img.shape)\n",
    "scipy.misc.imsave('test2.jpeg', img)"
   ]
  },
  {
   "cell_type": "code",
   "execution_count": null,
   "metadata": {},
   "outputs": [],
   "source": []
  }
 ],
 "metadata": {
  "kernelspec": {
   "display_name": "Python 3",
   "language": "python",
   "name": "python3"
  },
  "language_info": {
   "codemirror_mode": {
    "name": "ipython",
    "version": 3
   },
   "file_extension": ".py",
   "mimetype": "text/x-python",
   "name": "python",
   "nbconvert_exporter": "python",
   "pygments_lexer": "ipython3",
   "version": "3.6.4"
  }
 },
 "nbformat": 4,
 "nbformat_minor": 2
}
