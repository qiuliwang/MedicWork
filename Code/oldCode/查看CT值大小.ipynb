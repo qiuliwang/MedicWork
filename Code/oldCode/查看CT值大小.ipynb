{
 "cells": [
  {
   "cell_type": "code",
   "execution_count": 6,
   "metadata": {},
   "outputs": [
    {
     "name": "stdout",
     "output_type": "stream",
     "text": [
      "D:\\Data\\LIDC-IDRI\\DOI\\LIDC-IDRI-0001\\1.3.6.1.4.1.14519.5.2.1.6279.6001.298806137288633453246975630178\\1.3.6.1.4.1.14519.5.2.1.6279.6001.179049373636438705059720603192\\000001.dcm\n"
     ]
    }
   ],
   "source": [
    "# small test\n",
    "import pydicom\n",
    "\n",
    "path = 'D:\\\\Data\\\\LIDC-IDRI\\\\DOI\\\\LIDC-IDRI-0001\\\\1.3.6.1.4.1.14519.5.2.1.6279.6001.298806137288633453246975630178\\\\1.3.6.1.4.1.14519.5.2.1.6279.6001.179049373636438705059720603192\\\\000001.dcm'\n",
    "print(path)"
   ]
  },
  {
   "cell_type": "code",
   "execution_count": 17,
   "metadata": {},
   "outputs": [
    {
     "name": "stdout",
     "output_type": "stream",
     "text": [
      "[[-1024 -1024 -1024 ..., -1024 -1024 -1024]\n",
      " [-1024 -1024 -1024 ..., -1024 -1024 -1024]\n",
      " [-1024 -1024 -1024 ..., -1024 -1024 -1024]\n",
      " ..., \n",
      " [-1024 -1024 -1024 ..., -1024 -1024 -1024]\n",
      " [-1024 -1024 -1024 ..., -1024 -1024 -1024]\n",
      " [-1024 -1024 -1024 ..., -1024 -1024 -1024]]\n",
      "<class 'numpy.ndarray'>\n",
      "2171\n",
      "-1024\n"
     ]
    }
   ],
   "source": [
    "dcm = pydicom.dcmread(path)\n",
    "px = dcm.pixel_array\n",
    "print(px)\n",
    "print(type(px))\n",
    "print(px.max())\n",
    "print(px.min())"
   ]
  },
  {
   "cell_type": "code",
   "execution_count": null,
   "metadata": {},
   "outputs": [],
   "source": []
  }
 ],
 "metadata": {
  "kernelspec": {
   "display_name": "Python 3",
   "language": "python",
   "name": "python3"
  },
  "language_info": {
   "codemirror_mode": {
    "name": "ipython",
    "version": 3
   },
   "file_extension": ".py",
   "mimetype": "text/x-python",
   "name": "python",
   "nbconvert_exporter": "python",
   "pygments_lexer": "ipython3",
   "version": "3.6.4"
  }
 },
 "nbformat": 4,
 "nbformat_minor": 2
}
